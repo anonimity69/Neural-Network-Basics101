{
 "cells": [
  {
   "cell_type": "markdown",
   "metadata": {},
   "source": [
    "# Imports\n"
   ]
  },
  {
   "cell_type": "code",
   "execution_count": null,
   "metadata": {},
   "outputs": [
    {
     "name": "stdout",
     "output_type": "stream",
     "text": [
      "Numpy 1.26.4\n",
      "Pandas 2.2.2\n",
      "Python 3.11.8 (tags/v3.11.8:db85d51, Feb  6 2024, 22:03:32) [MSC v.1937 64 bit (AMD64)]\n"
     ]
    }
   ],
   "source": [
    "import numpy as np # type: ignore\n",
    "import pandas as pd # type: ignore\n",
    "import matplotlib.pyplot as plt# type: ignore\n",
    "import sys\n",
    "import nnfs # type: ignore\n",
    "import math as m\n",
    "print(\"Numpy\", np.__version__)\n",
    "print(\"Pandas\", pd.__version__)\n",
    "print(\"Python\", sys.version)"
   ]
  },
  {
   "cell_type": "markdown",
   "metadata": {},
   "source": [
    "# Basic Neuron 🧠"
   ]
  },
  {
   "cell_type": "code",
   "execution_count": 6,
   "metadata": {},
   "outputs": [
    {
     "name": "stdout",
     "output_type": "stream",
     "text": [
      "35.7\n"
     ]
    }
   ],
   "source": [
    "inputs = [1.2, 5.1, 2.1] # 3 inputs are the three neurons from previous layer\n",
    "weights= [3.1, 2.1, 8.7] # 3 weights are the weights of the three neurons from previous layer\n",
    "bias = 3 # bias is the bias of the neuron from the previous layer\n",
    "\n",
    "output = inputs[0]*weights[0] + inputs[1]*weights[1] + inputs[2]*weights[2] + bias  # output is the output of the neuron from the previous layer\n",
    "print(output)"
   ]
  },
  {
   "cell_type": "markdown",
   "metadata": {},
   "source": [
    "# Initiate a Layer 🥞"
   ]
  },
  {
   "cell_type": "markdown",
   "metadata": {},
   "source": [
    "Four Inputs into Four Neurons"
   ]
  },
  {
   "cell_type": "code",
   "execution_count": 7,
   "metadata": {},
   "outputs": [
    {
     "name": "stdout",
     "output_type": "stream",
     "text": [
      "4.8\n"
     ]
    }
   ],
   "source": [
    "inputs = [1, 2, 3, 2.5] # 3 inputs are the four neurons from previous layer\n",
    "weights= [0.2, 0.8, -0.5, 1.0] # 3 weights are the weights of the four neurons from previous layer\n",
    "bias = 2 # bias is the bias of the neuron from the previous layer\n",
    "\n",
    "output = inputs[0]*weights[0] + inputs[1]*weights[1] + inputs[2]*weights[2] + inputs[3]*weights[3]+ bias  # output is the output of the neuron from the previous layer\n",
    "print(output)"
   ]
  },
  {
   "cell_type": "markdown",
   "metadata": {},
   "source": [
    "Four Inputs into Three Neurons"
   ]
  },
  {
   "cell_type": "code",
   "execution_count": 8,
   "metadata": {},
   "outputs": [
    {
     "name": "stdout",
     "output_type": "stream",
     "text": [
      "[4.8, 1.21, 2.385]\n"
     ]
    }
   ],
   "source": [
    "inputs = [1, 2, 3, 2.5] # 4 inputs are the four neurons from previous layer\n",
    "\n",
    "weights1= [0.2, 0.8, -0.5, 1.0] # 3 weights are the weights of the four neurons from previous layer\n",
    "weights2= [0.5, -0.91, 0.26, -0.5]\n",
    "weights3= [-0.26, -0.27, 0.17, 0.87]\n",
    "bias1 = 2 # bias is the bias of the neuron from the previous layer\n",
    "bias2 = 3\n",
    "bias3 = 0.5\n",
    "\n",
    "output = [inputs[0]*weights1[0] + inputs[1]*weights1[1] + inputs[2]*weights1[2] + inputs[3]*weights1[3]+ bias1, \n",
    "          inputs[0]*weights2[0] + inputs[1]*weights2[1] + inputs[2]*weights2[2] + inputs[3]*weights2[3]+ bias2,\n",
    "          inputs[0]*weights3[0] + inputs[1]*weights3[1] + inputs[2]*weights3[2] + inputs[3]*weights3[3]+ bias3]  # output is the layered output of the neurons from the previous layer\n",
    "print(output)"
   ]
  },
  {
   "cell_type": "markdown",
   "metadata": {},
   "source": [
    "Simplifying the previous code"
   ]
  },
  {
   "cell_type": "code",
   "execution_count": 9,
   "metadata": {},
   "outputs": [
    {
     "name": "stdout",
     "output_type": "stream",
     "text": [
      "[4.8, 1.21, 2.385]\n"
     ]
    }
   ],
   "source": [
    "inputs = [1, 2, 3, 2.5] # 4 inputs are the four neurons from previous layer\n",
    "weights= [[0.2, 0.8, -0.5, 1.0],\n",
    "          [0.5, -0.91, 0.26, -0.5],\n",
    "          [-0.26, -0.27, 0.17, 0.87]] # 3 weights are the weights of the four neurons from previous layer\n",
    "biases = [2, 3, 0.5] # bias is the bias of the neuron from the previous layer\n",
    "\n",
    "layer_outputs = [] # Output of current layer\n",
    "for neuron_weights, neuron_bias in zip(weights, biases): #Zip is used to iterate over two lists at the same time and make a list of lists\n",
    "    neuron_output = 0 # Output of given neuron\n",
    "    for n_input, weight in zip(inputs, neuron_weights): #Zip is used to iterate over two lists at the same time\n",
    "        neuron_output += n_input*weight # Multiply the input with the weight and add it to the neuron_output\n",
    "    neuron_output += neuron_bias # Add the bias to the neuron_output\n",
    "    layer_outputs.append(neuron_output) # Append the neuron_output to the layer_outputs\n",
    "\n",
    "print(layer_outputs)"
   ]
  },
  {
   "cell_type": "markdown",
   "metadata": {},
   "source": [
    "# Dot Product and Matrix Product 🔃"
   ]
  },
  {
   "cell_type": "code",
   "execution_count": 12,
   "metadata": {},
   "outputs": [
    {
     "name": "stdout",
     "output_type": "stream",
     "text": [
      "4.8\n"
     ]
    }
   ],
   "source": [
    "inputs = [1, 2, 3, 2.5]\n",
    "weights= [0.2, 0.8, -0.5, 1.0] # 3 weights are the weights of the four neurons from previous layer\n",
    "bias = 2 # bias is the bias of the neuron from the previous layer\n",
    "\n",
    "output = np.dot(weights, inputs) + bias # np.dot is used to multiply the weights and inputs and add them together\n",
    "print(output)"
   ]
  },
  {
   "cell_type": "code",
   "execution_count": 13,
   "metadata": {},
   "outputs": [
    {
     "name": "stdout",
     "output_type": "stream",
     "text": [
      "[4.8   1.21  2.385]\n"
     ]
    }
   ],
   "source": [
    "inputs = [1, 2, 3, 2.5] # 4 inputs are the four neurons from previous layer\n",
    "weights= [[0.2, 0.8, -0.5, 1.0],\n",
    "          [0.5, -0.91, 0.26, -0.5],\n",
    "          [-0.26, -0.27, 0.17, 0.87]] # 3 weights are the weights of the four neurons from previous layer\n",
    "biases = [2, 3, 0.5]\n",
    "\n",
    "output = np.dot(weights, inputs) + biases # np.dot is used to multiply the weights and inputs and add them together\n",
    "print(output)"
   ]
  },
  {
   "cell_type": "markdown",
   "metadata": {},
   "source": [
    "# Batch Sizing 📦🔢"
   ]
  },
  {
   "cell_type": "code",
   "execution_count": 14,
   "metadata": {},
   "outputs": [
    {
     "name": "stdout",
     "output_type": "stream",
     "text": [
      "[[ 4.8    1.21   2.385]\n",
      " [ 8.9   -1.81   0.2  ]\n",
      " [ 1.41   1.051  0.026]]\n"
     ]
    }
   ],
   "source": [
    "inputs = [[1, 2, 3, 2.5],\n",
    "          [2.0, 5.0, -1.0, 2.0],\n",
    "          [-1.5, 2.7, 3.3, -0.8]] # inputs are the four neurons from previous layer(3,4)\n",
    "\n",
    "weights= [[0.2, 0.8, -0.5, 1.0],\n",
    "          [0.5, -0.91, 0.26, -0.5],\n",
    "          [-0.26, -0.27, 0.17, 0.87]] # weights are the weights of the four neurons from previous layer(3,4)\n",
    "\n",
    "biases = [2, 3, 0.5]\n",
    "\n",
    "# output = np.dot(weights, inputs) + biases # np.dot is used to multiply the weights and inputs and add them together(3,4) * (3,4) = Error\n",
    "output = np.dot(inputs, np.array(weights).T) + biases # np.dot is used to multiply the weights and inputs and add them together(3,4) * (4,3) = (3,3)\n",
    "# T or Transpose is used to convert the weights from (3,4) to (4,3) to make the multiplication possible\n",
    "print(output)"
   ]
  },
  {
   "cell_type": "markdown",
   "metadata": {},
   "source": [
    "MultiLayered Approach"
   ]
  },
  {
   "cell_type": "code",
   "execution_count": 15,
   "metadata": {},
   "outputs": [
    {
     "name": "stdout",
     "output_type": "stream",
     "text": [
      "[[ 0.5031  -1.04185 -2.03875]\n",
      " [ 0.2434  -2.7332  -5.7633 ]\n",
      " [-0.99314  1.41254 -0.35655]]\n"
     ]
    }
   ],
   "source": [
    "inputs = [[1, 2, 3, 2.5],\n",
    "          [2.0, 5.0, -1.0, 2.0],\n",
    "          [-1.5, 2.7, 3.3, -0.8]] # inputs are the four neurons from previous layer(3,4)\n",
    "\n",
    "weights= [[0.2, 0.8, -0.5, 1.0],\n",
    "          [0.5, -0.91, 0.26, -0.5],\n",
    "          [-0.26, -0.27, 0.17, 0.87]] # weights are the weights of the four neurons from previous layer(3,4)\n",
    "\n",
    "weights2= [[0.1, -0.14, 0.5],\n",
    "          [-0.5, 0.12, -0.33],\n",
    "          [-0.44, 0.73, -0.13]]\n",
    "\n",
    "biases = [2, 3, 0.5]\n",
    "\n",
    "biases2 = [-1, 2, -0.5]\n",
    "\n",
    "# output = np.dot(weights, inputs) + biases # np.dot is used to multiply the weights and inputs and add them together(3,4) * (3,4) = Error\n",
    "layer1_outputs = np.dot(inputs, np.array(weights).T) + biases # np.dot is used to multiply the weights and inputs and add them together(3,4) * (4,3) = (3,3)\n",
    "# T or Transpose is used to convert the weights from (3,4) to (4,3) to make the multiplication possible\n",
    "layer2_outputs = np.dot(layer1_outputs, np.array(weights2).T) + biases2\n",
    "print(layer2_outputs)"
   ]
  },
  {
   "cell_type": "markdown",
   "metadata": {},
   "source": [
    "# Objectification of the Layers 🛤️📚"
   ]
  },
  {
   "cell_type": "code",
   "execution_count": 16,
   "metadata": {},
   "outputs": [
    {
     "name": "stdout",
     "output_type": "stream",
     "text": [
      "Layer 2 Output: [[ 0.148296   -0.08397602]\n",
      " [ 0.14100315 -0.01340469]\n",
      " [ 0.20124979 -0.07290616]]\n"
     ]
    }
   ],
   "source": [
    "X = [[1, 2, 3, 2.5],\n",
    "    [2.0, 5.0, -1.0, 2.0],\n",
    "    [-1.5, 2.7, 3.3, -0.8]] # X denotes inputs\n",
    "\n",
    "np.random.seed(0) # Seed is used to generate the same random numbers every time\n",
    "\n",
    "\n",
    "class Layer_Dense: # Class for the dense layer- Hidden layer\n",
    "    def __init__(self, n_inputs, n_neurons): #Entry point for the class object\n",
    "        self.weights = 0.10 * np.random.randn(n_inputs, n_neurons) # Random weights of the neurons\n",
    "        self.biases = np.zeros((1, n_neurons)) # Zero biases of the neurons\n",
    "    def forward(self, inputs): # Forward function to calculate the output\n",
    "        self.output = np.dot(inputs, self.weights) + self.biases # Output of the neurons\n",
    "\n",
    "layer1 = Layer_Dense(4,5) # Layer 1 with 4 inputs and 5 neurons\n",
    "layer2 = Layer_Dense(5,2) # Layer 2 with 5 inputs and 2 neurons\n",
    "layer1.forward(X) # Forward function of layer 1\n",
    "layer2.forward(layer1.output) # Forward function of layer 2\n",
    "\n",
    "\n",
    "print(\"Layer 2 Output:\",layer2.output) # Output of layer 1\n",
    "# print(0.10*np.random.randn(4, 3)) # Random weights of the neurons"
   ]
  },
  {
   "cell_type": "markdown",
   "metadata": {},
   "source": [
    "# Activation Functions ⚡📈🧠"
   ]
  },
  {
   "cell_type": "markdown",
   "metadata": {},
   "source": [
    "ReLU- Rectified Linear Unit  Activation Function"
   ]
  },
  {
   "cell_type": "code",
   "execution_count": 17,
   "metadata": {},
   "outputs": [
    {
     "name": "stdout",
     "output_type": "stream",
     "text": [
      "[0, 2, 0, 3.3, 0, 1.1, 2.2, 0]\n"
     ]
    }
   ],
   "source": [
    "X = [[1, 2, 3, 2.5],\n",
    "    [2.0, 5.0, -1.0, 2.0],\n",
    "    [-1.5, 2.7, 3.3, -0.8]]\n",
    "\n",
    "inputs = [0, 2, -1, 3.3, -2.7, 1.1, 2.2, -100] \n",
    "\n",
    "output= []\n",
    "\n",
    "# for i in inputs:\n",
    "#     if i > 0:\n",
    "#         output.append(i)\n",
    "#     elif i <= 0:\n",
    "#         output.append(0)\n",
    "\n",
    "for i in inputs:\n",
    "    output.append(max(0, i))\n",
    "    \n",
    "print(output)"
   ]
  },
  {
   "cell_type": "code",
   "execution_count": 21,
   "metadata": {},
   "outputs": [],
   "source": [
    "nnfs.init()#setting the random seed through nnfs"
   ]
  },
  {
   "cell_type": "markdown",
   "metadata": {},
   "source": [
    "Dataset from nnfs"
   ]
  },
  {
   "cell_type": "code",
   "execution_count": 22,
   "metadata": {},
   "outputs": [],
   "source": [
    "from nnfs.datasets import spiral_data # type: ignore\n",
    "X, y = spiral_data(samples=100, classes=3)"
   ]
  },
  {
   "cell_type": "code",
   "execution_count": 23,
   "metadata": {},
   "outputs": [
    {
     "name": "stdout",
     "output_type": "stream",
     "text": [
      "[[0.00000000e+00 0.00000000e+00 0.00000000e+00 0.00000000e+00\n",
      "  0.00000000e+00]\n",
      " [0.00000000e+00 0.00000000e+00 0.00000000e+00 4.65504505e-04\n",
      "  4.56846210e-05]\n",
      " [0.00000000e+00 5.93469958e-05 0.00000000e+00 2.03573116e-04\n",
      "  6.10024377e-04]\n",
      " ...\n",
      " [1.13291524e-01 0.00000000e+00 0.00000000e+00 8.11079666e-02\n",
      "  0.00000000e+00]\n",
      " [1.34588361e-01 0.00000000e+00 3.09493970e-02 5.66337556e-02\n",
      "  0.00000000e+00]\n",
      " [1.07817926e-01 0.00000000e+00 0.00000000e+00 8.72561932e-02\n",
      "  0.00000000e+00]]\n"
     ]
    }
   ],
   "source": [
    "class Layer_Dense: # Class for the dense layer- Hidden layer\n",
    "    def __init__(self, n_inputs, n_neurons): #Entry point for the class object\n",
    "        self.weights = 0.10 * np.random.randn(n_inputs, n_neurons) # Random weights of the neurons\n",
    "        self.biases = np.zeros((1, n_neurons)) # Zero biases of the neurons\n",
    "    def forward(self, inputs): # Forward function to calculate the output\n",
    "        self.output = np.dot(inputs, self.weights) + self.biases # Output of the neurons\n",
    "\n",
    "class Activation_ReLU: # Class for the ReLU activation function\n",
    "    def forward(self, inputs): # Forward function to calculate the output\n",
    "        self.output = np.maximum(0, inputs) # Output of the ReLU activation function\n",
    "\n",
    "layer1 = Layer_Dense(2,5) # Layer 1 with 2 inputs and 5 neurons\n",
    "activation1 = Activation_ReLU() # ReLU activation function object\n",
    "layer1.forward(X) # Forward function of layer 1\n",
    "activation1.forward(layer1.output) # Forward function of ReLU activation function\n",
    "print(activation1.output)"
   ]
  },
  {
   "cell_type": "markdown",
   "metadata": {},
   "source": [
    "Softmax Activation Function"
   ]
  },
  {
   "cell_type": "code",
   "execution_count": 26,
   "metadata": {},
   "outputs": [
    {
     "name": "stdout",
     "output_type": "stream",
     "text": [
      "[121.51041751873483, 3.353484652549023, 10.859062664920513]\n"
     ]
    }
   ],
   "source": [
    "layer_outputs = [4.8, 1.21, 2.385]\n",
    "E = m.e # Euler's number \n",
    "exp_values = []\n",
    "for output in layer_outputs:\n",
    "    exp_values.append(E**output) # Exponential of the output\n",
    "\n",
    "print(exp_values)"
   ]
  },
  {
   "cell_type": "markdown",
   "metadata": {},
   "source": [
    "Normalization"
   ]
  },
  {
   "cell_type": "code",
   "execution_count": 27,
   "metadata": {},
   "outputs": [
    {
     "name": "stdout",
     "output_type": "stream",
     "text": [
      "[0.8952826639572619, 0.024708306782099374, 0.0800090292606387]\n",
      "0.9999999999999999\n"
     ]
    }
   ],
   "source": [
    "norm_base = sum(exp_values) # Sum of the exponential values\n",
    "norm_values = []\n",
    "for value in exp_values:\n",
    "    norm_values.append(value/norm_base) # Normalized values\n",
    "print(norm_values)\n",
    "print(sum(norm_values))"
   ]
  },
  {
   "cell_type": "code",
   "execution_count": 28,
   "metadata": {},
   "outputs": [
    {
     "name": "stdout",
     "output_type": "stream",
     "text": [
      "[0.89528266 0.02470831 0.08000903]\n"
     ]
    }
   ],
   "source": [
    "exp_values = np.exp(layer_outputs) # Exponential of the output\n",
    "norm_values = exp_values / np.sum(exp_values) # Normalized values\n",
    "print(norm_values)"
   ]
  },
  {
   "cell_type": "markdown",
   "metadata": {},
   "source": [
    "SoftMax= Input -> Exponentiate -> Normalize -> Output"
   ]
  },
  {
   "cell_type": "code",
   "execution_count": 29,
   "metadata": {},
   "outputs": [
    {
     "name": "stdout",
     "output_type": "stream",
     "text": [
      "[[8.95282664e-01 2.47083068e-02 8.00090293e-02]\n",
      " [9.99811129e-01 2.23163963e-05 1.66554348e-04]\n",
      " [5.13097164e-01 3.58333899e-01 1.28568936e-01]]\n"
     ]
    }
   ],
   "source": [
    "layer_outputs = [[4.8, 1.21, 2.385],\n",
    "                [8.9, -1.81, 0.2],\n",
    "                [1.41, 1.051, 0.026]]\n",
    "exp_values = np.exp(layer_outputs)\n",
    "norm_values = exp_values / np.sum(exp_values, axis=1, keepdims=True) # Normalized values\n",
    "print(norm_values)"
   ]
  },
  {
   "cell_type": "markdown",
   "metadata": {},
   "source": [
    "Softmax Activation Class"
   ]
  },
  {
   "cell_type": "code",
   "execution_count": 30,
   "metadata": {},
   "outputs": [
    {
     "name": "stdout",
     "output_type": "stream",
     "text": [
      "[[0.33333334 0.33333334 0.33333334]\n",
      " [0.33333507 0.33333328 0.3333316 ]\n",
      " [0.33327106 0.3333301  0.33339888]\n",
      " [0.33329675 0.33330458 0.33339873]\n",
      " [0.33331198 0.33331373 0.33337426]]\n"
     ]
    }
   ],
   "source": [
    "class Layer_Dense: # Class for the dense layer- Hidden layer\n",
    "    def __init__(self, n_inputs, n_neurons): #Entry point for the class object\n",
    "        self.weights = 0.10 * np.random.randn(n_inputs, n_neurons) # Random weights of the neurons\n",
    "        self.biases = np.zeros((1, n_neurons)) # Zero biases of the neurons\n",
    "    def forward(self, inputs): # Forward function to calculate the output\n",
    "        self.output = np.dot(inputs, self.weights) + self.biases # Output of the neurons\n",
    "\n",
    "class Activation_ReLU: # Class for the ReLU activation function\n",
    "    def forward(self, inputs): # Forward function to calculate the output\n",
    "        self.output = np.maximum(0, inputs) # Output of the ReLU activation function\n",
    "\n",
    "class Activation_Softmax: # Class for the Softmax activation function\n",
    "    def forward(self, inputs): # Forward function to calculate the output\n",
    "        exp_values = np.exp(inputs - np.max(inputs, axis=1, keepdims=True)) # Exponential of the output\n",
    "        probabilities = exp_values / np.sum(exp_values, axis=1, keepdims=True) # Normalized values\n",
    "        self.output = probabilities\n",
    "\n",
    "X, y = spiral_data(samples=100, classes=3) # Spiral data\n",
    "\n",
    "dense1 = Layer_Dense(2,3) # Layer 1 with 2 inputs and 3 neurons\n",
    "activation1 = Activation_ReLU() # ReLU activation function object\n",
    "\n",
    "dense2 = Layer_Dense(3,3) # Layer 2 with 3 inputs and 3 neurons\n",
    "activation2 = Activation_Softmax() # Softmax activation function object\n",
    "\n",
    "dense1.forward(X) # Forward function of layer 1\n",
    "activation1.forward(dense1.output) # Forward function of ReLU activation function  \n",
    "\n",
    "dense2.forward(activation1.output) # Forward function of layer 2\n",
    "activation2.forward(dense2.output) # Forward function of Softmax activation function\n",
    "\n",
    "print(activation2.output[:5])"
   ]
  },
  {
   "cell_type": "markdown",
   "metadata": {},
   "source": [
    "# Calculating Loss with Categorical Cross-Entropy 🧮🎯📉"
   ]
  },
  {
   "cell_type": "markdown",
   "metadata": {},
   "source": [
    "Logarithm"
   ]
  },
  {
   "cell_type": "code",
   "execution_count": 31,
   "metadata": {},
   "outputs": [
    {
     "name": "stdout",
     "output_type": "stream",
     "text": [
      "1.6486586255873816\n"
     ]
    }
   ],
   "source": [
    "b= 5.2\n",
    "print(np.log(b)) # Natural logarithm"
   ]
  },
  {
   "cell_type": "code",
   "execution_count": 32,
   "metadata": {},
   "outputs": [
    {
     "data": {
      "text/plain": [
       "5.199999999999999"
      ]
     },
     "execution_count": 32,
     "metadata": {},
     "output_type": "execute_result"
    }
   ],
   "source": [
    "m.e ** 1.6486586255873816 # Euler's number raised to the power of the natural logarithm of 5.2"
   ]
  },
  {
   "cell_type": "markdown",
   "metadata": {},
   "source": [
    "Categorical Cross Entropy"
   ]
  },
  {
   "cell_type": "code",
   "execution_count": 33,
   "metadata": {},
   "outputs": [
    {
     "name": "stdout",
     "output_type": "stream",
     "text": [
      "0.35667494393873245\n"
     ]
    }
   ],
   "source": [
    "softmax_output = [0.7, 0.1, 0.2] # Softmax output\n",
    "target_output = [1, 0, 0] # Target output\n",
    "\n",
    "Loss = -(m.log(softmax_output[0])*target_output[0] + \n",
    "         m.log(softmax_output[1])*target_output[1] + \n",
    "         m.log(softmax_output[2])*target_output[2]) # Loss function\n",
    "\n",
    "print(Loss)"
   ]
  },
  {
   "cell_type": "code",
   "execution_count": 34,
   "metadata": {},
   "outputs": [
    {
     "name": "stdout",
     "output_type": "stream",
     "text": [
      "0.35667494393873245\n"
     ]
    }
   ],
   "source": [
    "loss = -m.log(softmax_output[0]) # Loss function\n",
    "print(loss)"
   ]
  },
  {
   "cell_type": "markdown",
   "metadata": {},
   "source": [
    "Implementing Loss"
   ]
  },
  {
   "cell_type": "code",
   "execution_count": 35,
   "metadata": {},
   "outputs": [
    {
     "name": "stdout",
     "output_type": "stream",
     "text": [
      "[0.35667494 0.69314718 0.10536052]\n"
     ]
    }
   ],
   "source": [
    "softmax_outputs = np.array([[0.7, 0.1, 0.2],\n",
    "                            [0.1, 0.5, 0.4],\n",
    "                            [0.02, 0.9, 0.08]]) # Softmax output\n",
    "class_targets = [0, 1, 1] # Target output\n",
    "print(-np.log(softmax_outputs[[0,1,2], class_targets])) # Loss function"
   ]
  },
  {
   "cell_type": "code",
   "execution_count": 36,
   "metadata": {},
   "outputs": [
    {
     "name": "stdout",
     "output_type": "stream",
     "text": [
      "Loss: 1.0989271\n"
     ]
    }
   ],
   "source": [
    "class Layer_Dense: # Class for the dense layer- Hidden layer\n",
    "    def __init__(self, n_inputs, n_neurons): #Entry point for the class object\n",
    "        self.weights = 0.10 * np.random.randn(n_inputs, n_neurons) # Random weights of the neurons\n",
    "        self.biases = np.zeros((1, n_neurons)) # Zero biases of the neurons\n",
    "    def forward(self, inputs): # Forward function to calculate the output\n",
    "        self.output = np.dot(inputs, self.weights) + self.biases # Output of the neurons\n",
    "\n",
    "class Activation_ReLU: # Class for the ReLU activation function\n",
    "    def forward(self, inputs): # Forward function to calculate the output\n",
    "        self.output = np.maximum(0, inputs) # Output of the ReLU activation function\n",
    "\n",
    "class Activation_Softmax: # Class for the Softmax activation function\n",
    "    def forward(self, inputs): # Forward function to calculate the output\n",
    "        exp_values = np.exp(inputs - np.max(inputs, axis=1, keepdims=True)) # Exponential of the output\n",
    "        probabilities = exp_values / np.sum(exp_values, axis=1, keepdims=True) # Normalized values\n",
    "        self.output = probabilities\n",
    "\n",
    "class Loss: # Class for the loss function\n",
    "    def calculate(self, output, y): # Calculate function to calculate the loss\n",
    "        sample_losses = self.forward(output, y) # Forward function of the loss function\n",
    "        data_loss = np.mean(sample_losses) # Mean of the sample losses\n",
    "        return data_loss\n",
    "\n",
    "class Loss_CategoricalCrossentropy(Loss): # Class for the Categorical Crossentropy loss function\n",
    "    def forward(self, y_pred, y_true): # Forward function to calculate the loss\n",
    "        samples = len(y_pred) # Number of samples\n",
    "        y_pred_clipped = np.clip(y_pred, 1e-7, 1-1e-7) # Clip the values to avoid log(0)\n",
    "\n",
    "        if len(y_true.shape) == 1: # One-hot encoded\n",
    "            correct_confidences = y_pred_clipped[range(samples), y_true] # Correct confidences\n",
    "\n",
    "        elif len(y_true.shape) == 2: # Targets are one-hot encoded\n",
    "            correct_confidences = np.sum(y_pred_clipped*y_true, axis=1) # Correct confidences\n",
    "\n",
    "        negative_log_likelihoods = -np.log(correct_confidences) # Negative log likelihoods\n",
    "        return negative_log_likelihoods    \n",
    "\n",
    "X, y = spiral_data(samples=100, classes=3) # Spiral data\n",
    "\n",
    "dense1 = Layer_Dense(2,3) # Layer 1 with 2 inputs and 3 neurons\n",
    "activation1 = Activation_ReLU() # ReLU activation function object\n",
    "\n",
    "dense2 = Layer_Dense(3,3) # Layer 2 with 3 inputs and 3 neurons\n",
    "activation2 = Activation_Softmax() # Softmax activation function object\n",
    "\n",
    "dense1.forward(X) # Forward function of layer 1\n",
    "activation1.forward(dense1.output) # Forward function of ReLU activation function  \n",
    "\n",
    "dense2.forward(activation1.output) # Forward function of layer 2\n",
    "activation2.forward(dense2.output) # Forward function of Softmax activation function\n",
    "\n",
    "loss_function = Loss_CategoricalCrossentropy() # Categorical Crossentropy loss function object\n",
    "loss = loss_function.calculate(activation2.output, y) # Calculate the loss  \n",
    "\n",
    "print(\"Loss:\", loss)"
   ]
  },
  {
   "cell_type": "markdown",
   "metadata": {},
   "source": [
    "# Optimization 🚀📈🔧"
   ]
  },
  {
   "cell_type": "markdown",
   "metadata": {},
   "source": [
    "nnfs Vertical Data Dataset"
   ]
  },
  {
   "cell_type": "code",
   "execution_count": 37,
   "metadata": {},
   "outputs": [],
   "source": [
    "from nnfs.datasets import vertical_data, spiral_data\n",
    "nnfs.init() # type: ignore"
   ]
  },
  {
   "cell_type": "code",
   "execution_count": 43,
   "metadata": {},
   "outputs": [
    {
     "data": {
      "image/png": "[encoded data removed]",
      "text/plain": [
       "<Figure size 640x480 with 1 Axes>"
      ]
     },
     "metadata": {},
     "output_type": "display_data"
    }
   ],
   "source": [
    "X, y = vertical_data(samples=100, classes=3) # Vertical data\n",
    "\n",
    "plt.scatter(X[:,0], X[:,1], c=y, s=40, cmap='brg') # Scatter plot of the data\n",
    "plt.show()"
   ]
  },
  {
   "cell_type": "code",
   "execution_count": null,
   "metadata": {},
   "outputs": [
    {
     "data": {
      "image/png": "[encoded data removed]",
      "text/plain": [
       "<Figure size 640x480 with 1 Axes>"
      ]
     },
     "metadata": {},
     "output_type": "display_data"
    }
   ],
   "source": [
    "X, y = spiral_data(samples=100, classes=3) # Vertical data\n",
    "\n",
    "plt.scatter(X[:,0], X[:,1], c=y, s=40, cmap='brg') # Scatter plot of the data\n",
    "plt.show()"
   ]
  },
  {
   "cell_type": "markdown",
   "metadata": {},
   "source": [
    "Model"
   ]
  },
  {
   "cell_type": "code",
   "execution_count": 44,
   "metadata": {},
   "outputs": [
    {
     "name": "stdout",
     "output_type": "stream",
     "text": [
      "New set of weights found, iteration: 0 Loss: 1.1033484 Accuracy: 0.3333333333333333\n",
      "New set of weights found, iteration: 4 Loss: 1.1023859 Accuracy: 0.3333333333333333\n",
      "New set of weights found, iteration: 5 Loss: 1.102109 Accuracy: 0.3333333333333333\n",
      "New set of weights found, iteration: 6 Loss: 1.1001023 Accuracy: 0.3333333333333333\n",
      "New set of weights found, iteration: 7 Loss: 1.0987996 Accuracy: 0.3333333333333333\n",
      "New set of weights found, iteration: 12 Loss: 1.098511 Accuracy: 0.3333333333333333\n",
      "New set of weights found, iteration: 13 Loss: 1.095964 Accuracy: 0.3333333333333333\n",
      "New set of weights found, iteration: 16 Loss: 1.0943528 Accuracy: 0.36\n",
      "New set of weights found, iteration: 23 Loss: 1.0926024 Accuracy: 0.5666666666666667\n",
      "New set of weights found, iteration: 24 Loss: 1.091133 Accuracy: 0.49333333333333335\n",
      "New set of weights found, iteration: 25 Loss: 1.0911258 Accuracy: 0.5066666666666667\n",
      "New set of weights found, iteration: 29 Loss: 1.0902103 Accuracy: 0.6333333333333333\n",
      "New set of weights found, iteration: 30 Loss: 1.0866514 Accuracy: 0.3333333333333333\n",
      "New set of weights found, iteration: 32 Loss: 1.0823191 Accuracy: 0.3333333333333333\n",
      "New set of weights found, iteration: 33 Loss: 1.080983 Accuracy: 0.3333333333333333\n",
      "New set of weights found, iteration: 34 Loss: 1.0802561 Accuracy: 0.45666666666666667\n",
      "New set of weights found, iteration: 37 Loss: 1.0770164 Accuracy: 0.3333333333333333\n",
      "New set of weights found, iteration: 39 Loss: 1.0764592 Accuracy: 0.5866666666666667\n",
      "New set of weights found, iteration: 40 Loss: 1.0723504 Accuracy: 0.5166666666666667\n",
      "New set of weights found, iteration: 48 Loss: 1.0696768 Accuracy: 0.6166666666666667\n",
      "New set of weights found, iteration: 50 Loss: 1.0662332 Accuracy: 0.5266666666666666\n",
      "New set of weights found, iteration: 53 Loss: 1.0634487 Accuracy: 0.38\n",
      "New set of weights found, iteration: 54 Loss: 1.0624497 Accuracy: 0.3433333333333333\n",
      "New set of weights found, iteration: 57 Loss: 1.0592381 Accuracy: 0.49666666666666665\n",
      "New set of weights found, iteration: 59 Loss: 1.0569599 Accuracy: 0.3333333333333333\n",
      "New set of weights found, iteration: 60 Loss: 1.0547854 Accuracy: 0.4166666666666667\n",
      "New set of weights found, iteration: 62 Loss: 1.0545912 Accuracy: 0.49666666666666665\n",
      "New set of weights found, iteration: 63 Loss: 1.0524147 Accuracy: 0.8\n",
      "New set of weights found, iteration: 64 Loss: 1.0440476 Accuracy: 0.66\n",
      "New set of weights found, iteration: 65 Loss: 1.035532 Accuracy: 0.6666666666666666\n",
      "New set of weights found, iteration: 68 Loss: 1.0352834 Accuracy: 0.6666666666666666\n",
      "New set of weights found, iteration: 69 Loss: 1.0200049 Accuracy: 0.75\n",
      "New set of weights found, iteration: 71 Loss: 1.0084678 Accuracy: 0.87\n",
      "New set of weights found, iteration: 73 Loss: 1.0017337 Accuracy: 0.8066666666666666\n",
      "New set of weights found, iteration: 75 Loss: 1.0008627 Accuracy: 0.8833333333333333\n",
      "New set of weights found, iteration: 77 Loss: 1.0004112 Accuracy: 0.9366666666666666\n",
      "New set of weights found, iteration: 78 Loss: 0.99183637 Accuracy: 0.8266666666666667\n",
      "New set of weights found, iteration: 81 Loss: 0.98735446 Accuracy: 0.7033333333333334\n",
      "New set of weights found, iteration: 84 Loss: 0.9823928 Accuracy: 0.6666666666666666\n",
      "New set of weights found, iteration: 89 Loss: 0.981685 Accuracy: 0.6666666666666666\n",
      "New set of weights found, iteration: 94 Loss: 0.9728798 Accuracy: 0.6666666666666666\n",
      "New set of weights found, iteration: 97 Loss: 0.970197 Accuracy: 0.6666666666666666\n",
      "New set of weights found, iteration: 98 Loss: 0.9618689 Accuracy: 0.6633333333333333\n",
      "New set of weights found, iteration: 99 Loss: 0.953728 Accuracy: 0.6666666666666666\n",
      "New set of weights found, iteration: 100 Loss: 0.94985676 Accuracy: 0.6666666666666666\n",
      "New set of weights found, iteration: 104 Loss: 0.93887144 Accuracy: 0.6733333333333333\n",
      "New set of weights found, iteration: 107 Loss: 0.93156433 Accuracy: 0.6666666666666666\n",
      "New set of weights found, iteration: 113 Loss: 0.929281 Accuracy: 0.6666666666666666\n",
      "New set of weights found, iteration: 115 Loss: 0.91183054 Accuracy: 0.6666666666666666\n",
      "New set of weights found, iteration: 121 Loss: 0.90686786 Accuracy: 0.6666666666666666\n",
      "New set of weights found, iteration: 122 Loss: 0.8903911 Accuracy: 0.6666666666666666\n",
      "New set of weights found, iteration: 127 Loss: 0.88293964 Accuracy: 0.6666666666666666\n",
      "New set of weights found, iteration: 130 Loss: 0.881108 Accuracy: 0.6666666666666666\n",
      "New set of weights found, iteration: 133 Loss: 0.8769354 Accuracy: 0.6666666666666666\n",
      "New set of weights found, iteration: 135 Loss: 0.8674803 Accuracy: 0.6666666666666666\n",
      "New set of weights found, iteration: 139 Loss: 0.85502887 Accuracy: 0.6666666666666666\n",
      "New set of weights found, iteration: 140 Loss: 0.8479402 Accuracy: 0.6666666666666666\n",
      "New set of weights found, iteration: 143 Loss: 0.84591 Accuracy: 0.6666666666666666\n",
      "New set of weights found, iteration: 146 Loss: 0.8453844 Accuracy: 0.6666666666666666\n",
      "New set of weights found, iteration: 147 Loss: 0.84387684 Accuracy: 0.6666666666666666\n",
      "New set of weights found, iteration: 148 Loss: 0.82346255 Accuracy: 0.7233333333333334\n",
      "New set of weights found, iteration: 151 Loss: 0.8201249 Accuracy: 0.8233333333333334\n",
      "New set of weights found, iteration: 157 Loss: 0.81835306 Accuracy: 0.7466666666666667\n",
      "New set of weights found, iteration: 158 Loss: 0.80206674 Accuracy: 0.7266666666666667\n",
      "New set of weights found, iteration: 161 Loss: 0.7986663 Accuracy: 0.6733333333333333\n",
      "New set of weights found, iteration: 173 Loss: 0.7941887 Accuracy: 0.6733333333333333\n",
      "New set of weights found, iteration: 181 Loss: 0.79237175 Accuracy: 0.7833333333333333\n",
      "New set of weights found, iteration: 182 Loss: 0.7789108 Accuracy: 0.84\n",
      "New set of weights found, iteration: 185 Loss: 0.7636448 Accuracy: 0.77\n",
      "New set of weights found, iteration: 187 Loss: 0.7548525 Accuracy: 0.76\n",
      "New set of weights found, iteration: 190 Loss: 0.74544203 Accuracy: 0.7833333333333333\n",
      "New set of weights found, iteration: 191 Loss: 0.7261864 Accuracy: 0.7666666666666667\n",
      "New set of weights found, iteration: 193 Loss: 0.7249813 Accuracy: 0.81\n",
      "New set of weights found, iteration: 201 Loss: 0.7193689 Accuracy: 0.8666666666666667\n",
      "New set of weights found, iteration: 204 Loss: 0.71129984 Accuracy: 0.8366666666666667\n",
      "New set of weights found, iteration: 205 Loss: 0.71081525 Accuracy: 0.8366666666666667\n",
      "New set of weights found, iteration: 208 Loss: 0.70994645 Accuracy: 0.84\n",
      "New set of weights found, iteration: 210 Loss: 0.70585954 Accuracy: 0.8733333333333333\n",
      "New set of weights found, iteration: 212 Loss: 0.7034165 Accuracy: 0.9166666666666666\n",
      "New set of weights found, iteration: 214 Loss: 0.69735557 Accuracy: 0.8433333333333334\n",
      "New set of weights found, iteration: 215 Loss: 0.68606955 Accuracy: 0.9033333333333333\n",
      "New set of weights found, iteration: 216 Loss: 0.6822303 Accuracy: 0.92\n",
      "New set of weights found, iteration: 219 Loss: 0.68146914 Accuracy: 0.9133333333333333\n",
      "New set of weights found, iteration: 221 Loss: 0.67435026 Accuracy: 0.93\n",
      "New set of weights found, iteration: 222 Loss: 0.66929525 Accuracy: 0.9433333333333334\n",
      "New set of weights found, iteration: 227 Loss: 0.6622676 Accuracy: 0.8866666666666667\n",
      "New set of weights found, iteration: 229 Loss: 0.65351063 Accuracy: 0.8433333333333334\n",
      "New set of weights found, iteration: 234 Loss: 0.6484198 Accuracy: 0.85\n",
      "New set of weights found, iteration: 238 Loss: 0.6409712 Accuracy: 0.8633333333333333\n",
      "New set of weights found, iteration: 244 Loss: 0.63817716 Accuracy: 0.92\n",
      "New set of weights found, iteration: 248 Loss: 0.63605195 Accuracy: 0.8566666666666667\n",
      "New set of weights found, iteration: 254 Loss: 0.6245913 Accuracy: 0.87\n",
      "New set of weights found, iteration: 255 Loss: 0.6235833 Accuracy: 0.8133333333333334\n",
      "New set of weights found, iteration: 256 Loss: 0.6125559 Accuracy: 0.7966666666666666\n",
      "New set of weights found, iteration: 261 Loss: 0.610949 Accuracy: 0.82\n",
      "New set of weights found, iteration: 263 Loss: 0.60166526 Accuracy: 0.7866666666666666\n",
      "New set of weights found, iteration: 266 Loss: 0.59948343 Accuracy: 0.7766666666666666\n",
      "New set of weights found, iteration: 268 Loss: 0.59690034 Accuracy: 0.77\n",
      "New set of weights found, iteration: 270 Loss: 0.5922857 Accuracy: 0.7466666666666667\n",
      "New set of weights found, iteration: 275 Loss: 0.590259 Accuracy: 0.8133333333333334\n",
      "New set of weights found, iteration: 282 Loss: 0.5889553 Accuracy: 0.7933333333333333\n",
      "New set of weights found, iteration: 284 Loss: 0.5871327 Accuracy: 0.81\n",
      "New set of weights found, iteration: 296 Loss: 0.5825474 Accuracy: 0.7966666666666666\n",
      "New set of weights found, iteration: 297 Loss: 0.57677245 Accuracy: 0.8066666666666666\n",
      "New set of weights found, iteration: 298 Loss: 0.5709242 Accuracy: 0.8366666666666667\n",
      "New set of weights found, iteration: 299 Loss: 0.5576222 Accuracy: 0.83\n",
      "New set of weights found, iteration: 300 Loss: 0.5534679 Accuracy: 0.82\n",
      "New set of weights found, iteration: 301 Loss: 0.5485781 Accuracy: 0.82\n",
      "New set of weights found, iteration: 306 Loss: 0.5461511 Accuracy: 0.8333333333333334\n",
      "New set of weights found, iteration: 307 Loss: 0.54031265 Accuracy: 0.85\n",
      "New set of weights found, iteration: 311 Loss: 0.5307793 Accuracy: 0.8933333333333333\n",
      "New set of weights found, iteration: 312 Loss: 0.52720666 Accuracy: 0.8933333333333333\n",
      "New set of weights found, iteration: 317 Loss: 0.51979536 Accuracy: 0.8733333333333333\n",
      "New set of weights found, iteration: 324 Loss: 0.5119914 Accuracy: 0.8433333333333334\n",
      "New set of weights found, iteration: 328 Loss: 0.50939846 Accuracy: 0.9066666666666666\n",
      "New set of weights found, iteration: 334 Loss: 0.5084535 Accuracy: 0.8933333333333333\n",
      "New set of weights found, iteration: 335 Loss: 0.50388855 Accuracy: 0.8566666666666667\n",
      "New set of weights found, iteration: 336 Loss: 0.4968107 Accuracy: 0.91\n",
      "New set of weights found, iteration: 344 Loss: 0.4955861 Accuracy: 0.9033333333333333\n",
      "New set of weights found, iteration: 345 Loss: 0.48818704 Accuracy: 0.9333333333333333\n",
      "New set of weights found, iteration: 349 Loss: 0.48547623 Accuracy: 0.93\n",
      "New set of weights found, iteration: 356 Loss: 0.48245576 Accuracy: 0.94\n",
      "New set of weights found, iteration: 357 Loss: 0.47228968 Accuracy: 0.9333333333333333\n",
      "New set of weights found, iteration: 361 Loss: 0.46742442 Accuracy: 0.9233333333333333\n",
      "New set of weights found, iteration: 362 Loss: 0.4584707 Accuracy: 0.9233333333333333\n",
      "New set of weights found, iteration: 364 Loss: 0.4582107 Accuracy: 0.9\n",
      "New set of weights found, iteration: 366 Loss: 0.45417312 Accuracy: 0.92\n",
      "New set of weights found, iteration: 367 Loss: 0.45369074 Accuracy: 0.93\n",
      "New set of weights found, iteration: 368 Loss: 0.45330313 Accuracy: 0.9466666666666667\n",
      "New set of weights found, iteration: 370 Loss: 0.450391 Accuracy: 0.9466666666666667\n",
      "New set of weights found, iteration: 372 Loss: 0.44890177 Accuracy: 0.9433333333333334\n",
      "New set of weights found, iteration: 377 Loss: 0.44171256 Accuracy: 0.95\n",
      "New set of weights found, iteration: 384 Loss: 0.43825898 Accuracy: 0.91\n",
      "New set of weights found, iteration: 387 Loss: 0.43610254 Accuracy: 0.93\n",
      "New set of weights found, iteration: 390 Loss: 0.42828807 Accuracy: 0.9333333333333333\n",
      "New set of weights found, iteration: 392 Loss: 0.4257373 Accuracy: 0.9433333333333334\n",
      "New set of weights found, iteration: 399 Loss: 0.4227256 Accuracy: 0.9333333333333333\n",
      "New set of weights found, iteration: 403 Loss: 0.4195325 Accuracy: 0.9266666666666666\n",
      "New set of weights found, iteration: 407 Loss: 0.4164134 Accuracy: 0.9466666666666667\n",
      "New set of weights found, iteration: 415 Loss: 0.41434494 Accuracy: 0.95\n",
      "New set of weights found, iteration: 417 Loss: 0.41263708 Accuracy: 0.93\n",
      "New set of weights found, iteration: 421 Loss: 0.41140252 Accuracy: 0.9366666666666666\n",
      "New set of weights found, iteration: 423 Loss: 0.4024677 Accuracy: 0.9333333333333333\n",
      "New set of weights found, iteration: 424 Loss: 0.4011755 Accuracy: 0.95\n",
      "New set of weights found, iteration: 425 Loss: 0.4009927 Accuracy: 0.9433333333333334\n",
      "New set of weights found, iteration: 426 Loss: 0.39563587 Accuracy: 0.9466666666666667\n",
      "New set of weights found, iteration: 428 Loss: 0.39214513 Accuracy: 0.9433333333333334\n",
      "New set of weights found, iteration: 432 Loss: 0.38847935 Accuracy: 0.9266666666666666\n",
      "New set of weights found, iteration: 433 Loss: 0.3856465 Accuracy: 0.92\n",
      "New set of weights found, iteration: 435 Loss: 0.38317803 Accuracy: 0.9466666666666667\n",
      "New set of weights found, iteration: 436 Loss: 0.38303936 Accuracy: 0.9466666666666667\n",
      "New set of weights found, iteration: 439 Loss: 0.37987489 Accuracy: 0.9533333333333334\n",
      "New set of weights found, iteration: 441 Loss: 0.37351426 Accuracy: 0.95\n",
      "New set of weights found, iteration: 442 Loss: 0.35892537 Accuracy: 0.95\n",
      "New set of weights found, iteration: 446 Loss: 0.35618988 Accuracy: 0.9366666666666666\n",
      "New set of weights found, iteration: 449 Loss: 0.35394865 Accuracy: 0.94\n",
      "New set of weights found, iteration: 450 Loss: 0.34811884 Accuracy: 0.95\n",
      "New set of weights found, iteration: 451 Loss: 0.34771997 Accuracy: 0.9433333333333334\n",
      "New set of weights found, iteration: 454 Loss: 0.3465381 Accuracy: 0.9533333333333334\n",
      "New set of weights found, iteration: 465 Loss: 0.3433748 Accuracy: 0.9466666666666667\n",
      "New set of weights found, iteration: 467 Loss: 0.34334362 Accuracy: 0.9166666666666666\n",
      "New set of weights found, iteration: 469 Loss: 0.34016046 Accuracy: 0.9366666666666666\n",
      "New set of weights found, iteration: 470 Loss: 0.33760265 Accuracy: 0.9466666666666667\n",
      "New set of weights found, iteration: 480 Loss: 0.33425513 Accuracy: 0.9433333333333334\n",
      "New set of weights found, iteration: 484 Loss: 0.3319071 Accuracy: 0.9333333333333333\n",
      "New set of weights found, iteration: 487 Loss: 0.3307917 Accuracy: 0.94\n",
      "New set of weights found, iteration: 492 Loss: 0.3294611 Accuracy: 0.93\n",
      "New set of weights found, iteration: 496 Loss: 0.32519928 Accuracy: 0.9433333333333334\n",
      "New set of weights found, iteration: 498 Loss: 0.3250142 Accuracy: 0.9433333333333334\n",
      "New set of weights found, iteration: 499 Loss: 0.3216361 Accuracy: 0.9466666666666667\n",
      "New set of weights found, iteration: 501 Loss: 0.3208184 Accuracy: 0.9433333333333334\n",
      "New set of weights found, iteration: 502 Loss: 0.3186909 Accuracy: 0.9466666666666667\n",
      "New set of weights found, iteration: 508 Loss: 0.31347612 Accuracy: 0.95\n",
      "New set of weights found, iteration: 510 Loss: 0.31153998 Accuracy: 0.9466666666666667\n",
      "New set of weights found, iteration: 512 Loss: 0.30931103 Accuracy: 0.9433333333333334\n",
      "New set of weights found, iteration: 516 Loss: 0.30894813 Accuracy: 0.9366666666666666\n",
      "New set of weights found, iteration: 517 Loss: 0.30155963 Accuracy: 0.9433333333333334\n",
      "New set of weights found, iteration: 523 Loss: 0.30082545 Accuracy: 0.9466666666666667\n",
      "New set of weights found, iteration: 525 Loss: 0.29884425 Accuracy: 0.9466666666666667\n",
      "New set of weights found, iteration: 527 Loss: 0.29774705 Accuracy: 0.95\n",
      "New set of weights found, iteration: 531 Loss: 0.29575124 Accuracy: 0.95\n",
      "New set of weights found, iteration: 533 Loss: 0.29394788 Accuracy: 0.9533333333333334\n",
      "New set of weights found, iteration: 534 Loss: 0.2919356 Accuracy: 0.9466666666666667\n",
      "New set of weights found, iteration: 535 Loss: 0.29184642 Accuracy: 0.9466666666666667\n",
      "New set of weights found, iteration: 539 Loss: 0.291763 Accuracy: 0.9433333333333334\n",
      "New set of weights found, iteration: 549 Loss: 0.28900006 Accuracy: 0.94\n",
      "New set of weights found, iteration: 552 Loss: 0.28747776 Accuracy: 0.9466666666666667\n",
      "New set of weights found, iteration: 554 Loss: 0.28576878 Accuracy: 0.9466666666666667\n",
      "New set of weights found, iteration: 555 Loss: 0.28246063 Accuracy: 0.9566666666666667\n",
      "New set of weights found, iteration: 556 Loss: 0.27662745 Accuracy: 0.94\n",
      "New set of weights found, iteration: 560 Loss: 0.2733519 Accuracy: 0.9433333333333334\n",
      "New set of weights found, iteration: 571 Loss: 0.26835504 Accuracy: 0.9466666666666667\n",
      "New set of weights found, iteration: 577 Loss: 0.2671439 Accuracy: 0.9433333333333334\n",
      "New set of weights found, iteration: 581 Loss: 0.2669833 Accuracy: 0.9433333333333334\n",
      "New set of weights found, iteration: 582 Loss: 0.26585856 Accuracy: 0.94\n",
      "New set of weights found, iteration: 592 Loss: 0.2644333 Accuracy: 0.9466666666666667\n",
      "New set of weights found, iteration: 603 Loss: 0.2634261 Accuracy: 0.9433333333333334\n",
      "New set of weights found, iteration: 605 Loss: 0.26145422 Accuracy: 0.94\n",
      "New set of weights found, iteration: 618 Loss: 0.26047662 Accuracy: 0.9433333333333334\n",
      "New set of weights found, iteration: 623 Loss: 0.26021862 Accuracy: 0.94\n",
      "New set of weights found, iteration: 632 Loss: 0.25919253 Accuracy: 0.95\n",
      "New set of weights found, iteration: 635 Loss: 0.25589275 Accuracy: 0.9433333333333334\n",
      "New set of weights found, iteration: 637 Loss: 0.24917531 Accuracy: 0.9466666666666667\n",
      "New set of weights found, iteration: 640 Loss: 0.24799213 Accuracy: 0.95\n",
      "New set of weights found, iteration: 641 Loss: 0.24678963 Accuracy: 0.9466666666666667\n",
      "New set of weights found, iteration: 648 Loss: 0.24428904 Accuracy: 0.9466666666666667\n",
      "New set of weights found, iteration: 653 Loss: 0.24415667 Accuracy: 0.9533333333333334\n",
      "New set of weights found, iteration: 661 Loss: 0.24315967 Accuracy: 0.94\n",
      "New set of weights found, iteration: 666 Loss: 0.24202281 Accuracy: 0.94\n",
      "New set of weights found, iteration: 673 Loss: 0.23726493 Accuracy: 0.95\n",
      "New set of weights found, iteration: 674 Loss: 0.23466665 Accuracy: 0.9533333333333334\n",
      "New set of weights found, iteration: 678 Loss: 0.23364176 Accuracy: 0.9566666666666667\n",
      "New set of weights found, iteration: 681 Loss: 0.23223673 Accuracy: 0.9566666666666667\n",
      "New set of weights found, iteration: 688 Loss: 0.22899693 Accuracy: 0.95\n",
      "New set of weights found, iteration: 690 Loss: 0.22874486 Accuracy: 0.95\n",
      "New set of weights found, iteration: 700 Loss: 0.22829106 Accuracy: 0.9533333333333334\n",
      "New set of weights found, iteration: 701 Loss: 0.22640513 Accuracy: 0.9466666666666667\n",
      "New set of weights found, iteration: 706 Loss: 0.2258104 Accuracy: 0.9466666666666667\n",
      "New set of weights found, iteration: 708 Loss: 0.2237883 Accuracy: 0.95\n",
      "New set of weights found, iteration: 712 Loss: 0.22159691 Accuracy: 0.95\n",
      "New set of weights found, iteration: 736 Loss: 0.2197705 Accuracy: 0.9533333333333334\n",
      "New set of weights found, iteration: 737 Loss: 0.2195585 Accuracy: 0.95\n",
      "New set of weights found, iteration: 742 Loss: 0.21781543 Accuracy: 0.95\n",
      "New set of weights found, iteration: 746 Loss: 0.21623632 Accuracy: 0.95\n",
      "New set of weights found, iteration: 747 Loss: 0.21483393 Accuracy: 0.9466666666666667\n",
      "New set of weights found, iteration: 748 Loss: 0.21402276 Accuracy: 0.9433333333333334\n",
      "New set of weights found, iteration: 766 Loss: 0.2110093 Accuracy: 0.95\n",
      "New set of weights found, iteration: 776 Loss: 0.2108963 Accuracy: 0.9533333333333334\n",
      "New set of weights found, iteration: 777 Loss: 0.20933242 Accuracy: 0.9466666666666667\n",
      "New set of weights found, iteration: 782 Loss: 0.20707688 Accuracy: 0.95\n",
      "New set of weights found, iteration: 788 Loss: 0.20515686 Accuracy: 0.9533333333333334\n",
      "New set of weights found, iteration: 790 Loss: 0.20339362 Accuracy: 0.9466666666666667\n",
      "New set of weights found, iteration: 793 Loss: 0.20216769 Accuracy: 0.9466666666666667\n",
      "New set of weights found, iteration: 796 Loss: 0.20120835 Accuracy: 0.9533333333333334\n",
      "New set of weights found, iteration: 799 Loss: 0.1970496 Accuracy: 0.9466666666666667\n",
      "New set of weights found, iteration: 800 Loss: 0.19691163 Accuracy: 0.9533333333333334\n",
      "New set of weights found, iteration: 808 Loss: 0.19552137 Accuracy: 0.9533333333333334\n",
      "New set of weights found, iteration: 809 Loss: 0.19334246 Accuracy: 0.9533333333333334\n",
      "New set of weights found, iteration: 816 Loss: 0.1930511 Accuracy: 0.95\n",
      "New set of weights found, iteration: 822 Loss: 0.19124901 Accuracy: 0.9433333333333334\n",
      "New set of weights found, iteration: 823 Loss: 0.19026023 Accuracy: 0.95\n",
      "New set of weights found, iteration: 825 Loss: 0.18944286 Accuracy: 0.95\n",
      "New set of weights found, iteration: 850 Loss: 0.18758792 Accuracy: 0.95\n",
      "New set of weights found, iteration: 851 Loss: 0.18687999 Accuracy: 0.95\n",
      "New set of weights found, iteration: 858 Loss: 0.18570091 Accuracy: 0.9466666666666667\n",
      "New set of weights found, iteration: 863 Loss: 0.18441057 Accuracy: 0.9466666666666667\n",
      "New set of weights found, iteration: 866 Loss: 0.18410873 Accuracy: 0.9466666666666667\n",
      "New set of weights found, iteration: 879 Loss: 0.18383312 Accuracy: 0.95\n",
      "New set of weights found, iteration: 889 Loss: 0.18375394 Accuracy: 0.9533333333333334\n",
      "New set of weights found, iteration: 896 Loss: 0.18162212 Accuracy: 0.95\n",
      "New set of weights found, iteration: 898 Loss: 0.17961738 Accuracy: 0.9566666666666667\n",
      "New set of weights found, iteration: 907 Loss: 0.17862384 Accuracy: 0.95\n",
      "New set of weights found, iteration: 920 Loss: 0.17707652 Accuracy: 0.9533333333333334\n",
      "New set of weights found, iteration: 925 Loss: 0.17493129 Accuracy: 0.95\n",
      "New set of weights found, iteration: 935 Loss: 0.17419396 Accuracy: 0.9466666666666667\n",
      "New set of weights found, iteration: 947 Loss: 0.17324458 Accuracy: 0.9566666666666667\n",
      "New set of weights found, iteration: 954 Loss: 0.17138913 Accuracy: 0.9533333333333334\n",
      "New set of weights found, iteration: 960 Loss: 0.17003688 Accuracy: 0.9566666666666667\n",
      "New set of weights found, iteration: 962 Loss: 0.16867343 Accuracy: 0.95\n",
      "New set of weights found, iteration: 987 Loss: 0.16712672 Accuracy: 0.9533333333333334\n",
      "New set of weights found, iteration: 993 Loss: 0.16672668 Accuracy: 0.95\n",
      "New set of weights found, iteration: 997 Loss: 0.16591007 Accuracy: 0.95\n",
      "New set of weights found, iteration: 998 Loss: 0.164506 Accuracy: 0.95\n",
      "New set of weights found, iteration: 999 Loss: 0.16244814 Accuracy: 0.9533333333333334\n",
      "New set of weights found, iteration: 1001 Loss: 0.1616631 Accuracy: 0.95\n",
      "New set of weights found, iteration: 1004 Loss: 0.16142471 Accuracy: 0.9566666666666667\n",
      "New set of weights found, iteration: 1014 Loss: 0.16051722 Accuracy: 0.9533333333333334\n",
      "New set of weights found, iteration: 1015 Loss: 0.15901516 Accuracy: 0.9533333333333334\n",
      "New set of weights found, iteration: 1024 Loss: 0.15892921 Accuracy: 0.9533333333333334\n",
      "New set of weights found, iteration: 1030 Loss: 0.15834938 Accuracy: 0.9533333333333334\n",
      "New set of weights found, iteration: 1032 Loss: 0.15753865 Accuracy: 0.9566666666666667\n",
      "New set of weights found, iteration: 1036 Loss: 0.15697274 Accuracy: 0.9466666666666667\n",
      "New set of weights found, iteration: 1039 Loss: 0.15590984 Accuracy: 0.9566666666666667\n",
      "New set of weights found, iteration: 1041 Loss: 0.15252614 Accuracy: 0.9533333333333334\n",
      "New set of weights found, iteration: 1045 Loss: 0.15215322 Accuracy: 0.9533333333333334\n",
      "New set of weights found, iteration: 1064 Loss: 0.15201645 Accuracy: 0.95\n",
      "New set of weights found, iteration: 1077 Loss: 0.1507966 Accuracy: 0.9533333333333334\n",
      "New set of weights found, iteration: 1081 Loss: 0.14962158 Accuracy: 0.9566666666666667\n",
      "New set of weights found, iteration: 1082 Loss: 0.1490309 Accuracy: 0.95\n",
      "New set of weights found, iteration: 1086 Loss: 0.14835754 Accuracy: 0.95\n",
      "New set of weights found, iteration: 1116 Loss: 0.14780708 Accuracy: 0.9566666666666667\n",
      "New set of weights found, iteration: 1123 Loss: 0.14724559 Accuracy: 0.96\n",
      "New set of weights found, iteration: 1124 Loss: 0.14602023 Accuracy: 0.95\n",
      "New set of weights found, iteration: 1125 Loss: 0.14541252 Accuracy: 0.9566666666666667\n",
      "New set of weights found, iteration: 1127 Loss: 0.14486705 Accuracy: 0.95\n",
      "New set of weights found, iteration: 1144 Loss: 0.14422591 Accuracy: 0.9533333333333334\n",
      "New set of weights found, iteration: 1149 Loss: 0.14405988 Accuracy: 0.9533333333333334\n",
      "New set of weights found, iteration: 1154 Loss: 0.14279585 Accuracy: 0.95\n",
      "New set of weights found, iteration: 1162 Loss: 0.14218748 Accuracy: 0.9533333333333334\n",
      "New set of weights found, iteration: 1167 Loss: 0.14061321 Accuracy: 0.95\n",
      "New set of weights found, iteration: 1180 Loss: 0.1404478 Accuracy: 0.95\n",
      "New set of weights found, iteration: 1193 Loss: 0.13794929 Accuracy: 0.9533333333333334\n",
      "New set of weights found, iteration: 1250 Loss: 0.13621642 Accuracy: 0.9533333333333334\n",
      "New set of weights found, iteration: 1257 Loss: 0.1358871 Accuracy: 0.95\n",
      "New set of weights found, iteration: 1260 Loss: 0.13575321 Accuracy: 0.9533333333333334\n",
      "New set of weights found, iteration: 1262 Loss: 0.13462505 Accuracy: 0.9533333333333334\n",
      "New set of weights found, iteration: 1264 Loss: 0.13408251 Accuracy: 0.95\n",
      "New set of weights found, iteration: 1266 Loss: 0.13158923 Accuracy: 0.9533333333333334\n",
      "New set of weights found, iteration: 1289 Loss: 0.1310509 Accuracy: 0.9533333333333334\n",
      "New set of weights found, iteration: 1295 Loss: 0.13055061 Accuracy: 0.9533333333333334\n",
      "New set of weights found, iteration: 1302 Loss: 0.12998816 Accuracy: 0.9566666666666667\n",
      "New set of weights found, iteration: 1305 Loss: 0.12977403 Accuracy: 0.9566666666666667\n",
      "New set of weights found, iteration: 1320 Loss: 0.12974745 Accuracy: 0.9533333333333334\n",
      "New set of weights found, iteration: 1322 Loss: 0.12966256 Accuracy: 0.9566666666666667\n",
      "New set of weights found, iteration: 1323 Loss: 0.1293172 Accuracy: 0.9533333333333334\n",
      "New set of weights found, iteration: 1325 Loss: 0.12928054 Accuracy: 0.9533333333333334\n",
      "New set of weights found, iteration: 1345 Loss: 0.12912665 Accuracy: 0.9533333333333334\n",
      "New set of weights found, iteration: 1353 Loss: 0.12727101 Accuracy: 0.9566666666666667\n",
      "New set of weights found, iteration: 1365 Loss: 0.12720095 Accuracy: 0.9533333333333334\n",
      "New set of weights found, iteration: 1374 Loss: 0.12716688 Accuracy: 0.9566666666666667\n",
      "New set of weights found, iteration: 1378 Loss: 0.12664479 Accuracy: 0.9533333333333334\n",
      "New set of weights found, iteration: 1386 Loss: 0.12654118 Accuracy: 0.9566666666666667\n",
      "New set of weights found, iteration: 1387 Loss: 0.12609091 Accuracy: 0.9566666666666667\n",
      "New set of weights found, iteration: 1388 Loss: 0.12572749 Accuracy: 0.9533333333333334\n",
      "New set of weights found, iteration: 1391 Loss: 0.12545536 Accuracy: 0.9566666666666667\n",
      "New set of weights found, iteration: 1392 Loss: 0.12535793 Accuracy: 0.9566666666666667\n",
      "New set of weights found, iteration: 1400 Loss: 0.12487788 Accuracy: 0.9566666666666667\n",
      "New set of weights found, iteration: 1401 Loss: 0.124583475 Accuracy: 0.9533333333333334\n",
      "New set of weights found, iteration: 1410 Loss: 0.123527326 Accuracy: 0.9566666666666667\n",
      "New set of weights found, iteration: 1413 Loss: 0.123406306 Accuracy: 0.9533333333333334\n",
      "New set of weights found, iteration: 1415 Loss: 0.12307739 Accuracy: 0.9533333333333334\n",
      "New set of weights found, iteration: 1418 Loss: 0.12303342 Accuracy: 0.9566666666666667\n",
      "New set of weights found, iteration: 1420 Loss: 0.1221589 Accuracy: 0.9533333333333334\n",
      "New set of weights found, iteration: 1423 Loss: 0.12162912 Accuracy: 0.9566666666666667\n",
      "New set of weights found, iteration: 1425 Loss: 0.12126106 Accuracy: 0.9533333333333334\n",
      "New set of weights found, iteration: 1426 Loss: 0.12120346 Accuracy: 0.9566666666666667\n",
      "New set of weights found, iteration: 1449 Loss: 0.12011387 Accuracy: 0.9533333333333334\n",
      "New set of weights found, iteration: 1496 Loss: 0.12009983 Accuracy: 0.9533333333333334\n",
      "New set of weights found, iteration: 1510 Loss: 0.11989464 Accuracy: 0.9566666666666667\n",
      "New set of weights found, iteration: 1563 Loss: 0.11989052 Accuracy: 0.9566666666666667\n",
      "New set of weights found, iteration: 1581 Loss: 0.119682096 Accuracy: 0.9566666666666667\n",
      "New set of weights found, iteration: 1590 Loss: 0.11952674 Accuracy: 0.9566666666666667\n",
      "New set of weights found, iteration: 1617 Loss: 0.11915365 Accuracy: 0.9566666666666667\n",
      "New set of weights found, iteration: 1621 Loss: 0.1191405 Accuracy: 0.9566666666666667\n",
      "New set of weights found, iteration: 1647 Loss: 0.11855924 Accuracy: 0.9566666666666667\n",
      "New set of weights found, iteration: 1650 Loss: 0.11820464 Accuracy: 0.9566666666666667\n",
      "New set of weights found, iteration: 1669 Loss: 0.117955044 Accuracy: 0.9533333333333334\n",
      "New set of weights found, iteration: 1670 Loss: 0.117547214 Accuracy: 0.9533333333333334\n",
      "New set of weights found, iteration: 1685 Loss: 0.11723164 Accuracy: 0.9533333333333334\n",
      "New set of weights found, iteration: 1744 Loss: 0.11699928 Accuracy: 0.9533333333333334\n",
      "New set of weights found, iteration: 1752 Loss: 0.11673319 Accuracy: 0.9566666666666667\n",
      "New set of weights found, iteration: 1777 Loss: 0.11655178 Accuracy: 0.9533333333333334\n",
      "New set of weights found, iteration: 1816 Loss: 0.116454214 Accuracy: 0.9533333333333334\n",
      "New set of weights found, iteration: 1818 Loss: 0.116385825 Accuracy: 0.9566666666666667\n",
      "New set of weights found, iteration: 1837 Loss: 0.11634085 Accuracy: 0.9533333333333334\n",
      "New set of weights found, iteration: 1857 Loss: 0.11606889 Accuracy: 0.9533333333333334\n",
      "New set of weights found, iteration: 1872 Loss: 0.11604688 Accuracy: 0.9566666666666667\n",
      "New set of weights found, iteration: 1876 Loss: 0.11604482 Accuracy: 0.9566666666666667\n",
      "New set of weights found, iteration: 1930 Loss: 0.11601616 Accuracy: 0.9566666666666667\n",
      "New set of weights found, iteration: 1983 Loss: 0.11590522 Accuracy: 0.9533333333333334\n",
      "New set of weights found, iteration: 2011 Loss: 0.11583252 Accuracy: 0.9566666666666667\n",
      "New set of weights found, iteration: 2138 Loss: 0.11582448 Accuracy: 0.9566666666666667\n",
      "New set of weights found, iteration: 2147 Loss: 0.11560453 Accuracy: 0.9566666666666667\n",
      "New set of weights found, iteration: 2376 Loss: 0.11555774 Accuracy: 0.9533333333333334\n",
      "New set of weights found, iteration: 2488 Loss: 0.115497954 Accuracy: 0.9533333333333334\n",
      "New set of weights found, iteration: 2556 Loss: 0.11544902 Accuracy: 0.9566666666666667\n",
      "New set of weights found, iteration: 2577 Loss: 0.11540555 Accuracy: 0.9533333333333334\n",
      "New set of weights found, iteration: 2616 Loss: 0.11540483 Accuracy: 0.9566666666666667\n",
      "New set of weights found, iteration: 2622 Loss: 0.11539652 Accuracy: 0.9533333333333334\n",
      "New set of weights found, iteration: 2627 Loss: 0.11532422 Accuracy: 0.9566666666666667\n",
      "New set of weights found, iteration: 2662 Loss: 0.11526938 Accuracy: 0.9566666666666667\n",
      "New set of weights found, iteration: 2663 Loss: 0.11522191 Accuracy: 0.9533333333333334\n",
      "New set of weights found, iteration: 2719 Loss: 0.11521276 Accuracy: 0.9566666666666667\n",
      "New set of weights found, iteration: 2720 Loss: 0.1151848 Accuracy: 0.9566666666666667\n",
      "New set of weights found, iteration: 2765 Loss: 0.11518185 Accuracy: 0.9566666666666667\n",
      "New set of weights found, iteration: 2907 Loss: 0.11517395 Accuracy: 0.9533333333333334\n",
      "New set of weights found, iteration: 2918 Loss: 0.11517327 Accuracy: 0.9533333333333334\n",
      "New set of weights found, iteration: 2923 Loss: 0.11507074 Accuracy: 0.9533333333333334\n",
      "New set of weights found, iteration: 3574 Loss: 0.115037255 Accuracy: 0.9533333333333334\n",
      "New set of weights found, iteration: 3692 Loss: 0.11501283 Accuracy: 0.9566666666666667\n",
      "New set of weights found, iteration: 4100 Loss: 0.11499283 Accuracy: 0.9566666666666667\n",
      "New set of weights found, iteration: 4419 Loss: 0.114986405 Accuracy: 0.9566666666666667\n",
      "New set of weights found, iteration: 4579 Loss: 0.11497782 Accuracy: 0.9566666666666667\n",
      "New set of weights found, iteration: 4605 Loss: 0.114966676 Accuracy: 0.9533333333333334\n",
      "New set of weights found, iteration: 6552 Loss: 0.11495149 Accuracy: 0.9566666666666667\n",
      "New set of weights found, iteration: 6834 Loss: 0.11494923 Accuracy: 0.9566666666666667\n",
      "New set of weights found, iteration: 8292 Loss: 0.1149485 Accuracy: 0.9533333333333334\n",
      "New set of weights found, iteration: 9315 Loss: 0.1149336 Accuracy: 0.9566666666666667\n"
     ]
    }
   ],
   "source": [
    "dense1 = Layer_Dense(2,3) # Layer 1 with 2 inputs and 3 neurons\n",
    "activation1 = Activation_ReLU() # ReLU activation function object\n",
    "\n",
    "dense2 = Layer_Dense(3,3) # Layer 2 with 3 inputs and 3 neurons\n",
    "activation2 = Activation_Softmax() # Softmax activation function object\n",
    "\n",
    "loss_function = Loss_CategoricalCrossentropy() # Categorical Crossentropy loss function object\n",
    "\n",
    "lowest_loss = 9999999 # Lowest loss\n",
    "best_dense1_weights = dense1.weights.copy() # Best weights of layer 1\n",
    "best_dense1_biases = dense1.biases.copy() # Best biases of layer 1\n",
    "best_dense2_weights = dense2.weights.copy() # Best weights of layer 2\n",
    "best_dense2_biases = dense2.biases.copy() # Best biases of layer 2\n",
    "\n",
    "for iteration in range(10000): # 10000 iterations  \n",
    "    dense1.weights += 0.05 * np.random.randn(2,3) # Random weights of layer 1\n",
    "    dense1.biases += 0.05 * np.random.randn(1,3) # Random biases of layer 1 \n",
    "    dense2.weights += 0.05 * np.random.randn(3,3) # Random weights of layer 2\n",
    "    dense2.biases += 0.05 * np.random.randn(1,3) # Random biases of layer 2\n",
    "\n",
    "    dense1.forward(X) # Forward function of layer 1\n",
    "    activation1.forward(dense1.output) # Forward function of ReLU activation function\n",
    "    dense2.forward(activation1.output) # Forward function of layer 2\n",
    "    activation2.forward(dense2.output) # Forward function of Softmax activation function\n",
    "\n",
    "    loss = loss_function.calculate(activation2.output, y) # Calculate the loss\n",
    "    predictions = np.argmax(activation2.output, axis=1) # Predictions\n",
    "    accuracy = np.mean(predictions==y) # Accuracy\n",
    "\n",
    "    if loss < lowest_loss: # If the loss is lower than the lowest loss\n",
    "        print('New set of weights found, iteration:', iteration,\n",
    "              'Loss:', loss,\n",
    "              'Accuracy:', accuracy)\n",
    "        best_dense1_weights = dense1.weights.copy()\n",
    "        best_dense1_biases = dense1.biases.copy()\n",
    "        best_dense2_weights = dense2.weights.copy()\n",
    "        best_dense2_biases = dense2.biases.copy()\n",
    "        lowest_loss = loss\n",
    "    else:\n",
    "        dense1.weights = best_dense1_weights.copy()\n",
    "        dense1.biases = best_dense1_biases.copy()\n",
    "        dense2.weights = best_dense2_weights.copy()\n",
    "        dense2.biases = best_dense2_biases.copy()\n"
   ]
  },
  {
   "cell_type": "code",
   "execution_count": 45,
   "metadata": {},
   "outputs": [
    {
     "name": "stdout",
     "output_type": "stream",
     "text": [
      "Best Loss: 0.1149336\n",
      "Best Accuracy: 0.9533333333333334\n"
     ]
    }
   ],
   "source": [
    "print(\"Best Loss:\", lowest_loss)\n",
    "print(\"Best Accuracy:\", accuracy)"
   ]
  }
 ],
 "metadata": {
  "kernelspec": {
   "display_name": ".venv",
   "language": "python",
   "name": "python3"
  },
  "language_info": {
   "codemirror_mode": {
    "name": "ipython",
    "version": 3
   },
   "file_extension": ".py",
   "mimetype": "text/x-python",
   "name": "python",
   "nbconvert_exporter": "python",
   "pygments_lexer": "ipython3",
   "version": "3.11.8"
  }
 },
 "nbformat": 4,
 "nbformat_minor": 2
}
