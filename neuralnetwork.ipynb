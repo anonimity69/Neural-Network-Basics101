{
 "cells": [
  {
   "cell_type": "markdown",
   "metadata": {},
   "source": [
    "# Imports\n"
   ]
  },
  {
   "cell_type": "code",
   "execution_count": 3,
   "metadata": {},
   "outputs": [
    {
     "name": "stdout",
     "output_type": "stream",
     "text": [
      "Numpy 1.26.4\n",
      "Pandas 2.2.2\n",
      "Matplotlib 3.9.2\n",
      "Python 3.11.8 (tags/v3.11.8:db85d51, Feb  6 2024, 22:03:32) [MSC v.1937 64 bit (AMD64)]\n"
     ]
    }
   ],
   "source": [
    "import numpy as np\n",
    "import pandas as pd\n",
    "import matplotlib\n",
    "import sys\n",
    "print(\"Numpy\", np.__version__)\n",
    "print(\"Pandas\", pd.__version__)\n",
    "print(\"Matplotlib\", matplotlib.__version__)\n",
    "print(\"Python\", sys.version)"
   ]
  },
  {
   "cell_type": "markdown",
   "metadata": {},
   "source": [
    "# Basic Neuron 🧠"
   ]
  },
  {
   "cell_type": "code",
   "execution_count": 4,
   "metadata": {},
   "outputs": [
    {
     "name": "stdout",
     "output_type": "stream",
     "text": [
      "35.7\n"
     ]
    }
   ],
   "source": [
    "inputs = [1.2, 5.1, 2.1] # 3 inputs are the three neurons from previous layer\n",
    "weights= [3.1, 2.1, 8.7] # 3 weights are the weights of the three neurons from previous layer\n",
    "bias = 3 # bias is the bias of the neuron from the previous layer\n",
    "\n",
    "output = inputs[0]*weights[0] + inputs[1]*weights[1] + inputs[2]*weights[2] + bias  # output is the output of the neuron from the previous layer\n",
    "print(output)"
   ]
  },
  {
   "cell_type": "markdown",
   "metadata": {},
   "source": [
    "# Initiate a Layer 🥞"
   ]
  },
  {
   "cell_type": "markdown",
   "metadata": {},
   "source": [
    "Four Inputs into Four Neurons"
   ]
  },
  {
   "cell_type": "code",
   "execution_count": 5,
   "metadata": {},
   "outputs": [
    {
     "name": "stdout",
     "output_type": "stream",
     "text": [
      "4.8\n"
     ]
    }
   ],
   "source": [
    "inputs = [1, 2, 3, 2.5] # 3 inputs are the four neurons from previous layer\n",
    "weights= [0.2, 0.8, -0.5, 1.0] # 3 weights are the weights of the four neurons from previous layer\n",
    "bias = 2 # bias is the bias of the neuron from the previous layer\n",
    "\n",
    "output = inputs[0]*weights[0] + inputs[1]*weights[1] + inputs[2]*weights[2] + inputs[3]*weights[3]+ bias  # output is the output of the neuron from the previous layer\n",
    "print(output)"
   ]
  },
  {
   "cell_type": "markdown",
   "metadata": {},
   "source": [
    "Four Inputs into Three Neurons"
   ]
  },
  {
   "cell_type": "code",
   "execution_count": 6,
   "metadata": {},
   "outputs": [
    {
     "name": "stdout",
     "output_type": "stream",
     "text": [
      "[4.8, 1.21, 2.385]\n"
     ]
    }
   ],
   "source": [
    "inputs = [1, 2, 3, 2.5] # 4 inputs are the four neurons from previous layer\n",
    "\n",
    "weights1= [0.2, 0.8, -0.5, 1.0] # 3 weights are the weights of the four neurons from previous layer\n",
    "weights2= [0.5, -0.91, 0.26, -0.5]\n",
    "weights3= [-0.26, -0.27, 0.17, 0.87]\n",
    "bias1 = 2 # bias is the bias of the neuron from the previous layer\n",
    "bias2 = 3\n",
    "bias3 = 0.5\n",
    "\n",
    "output = [inputs[0]*weights1[0] + inputs[1]*weights1[1] + inputs[2]*weights1[2] + inputs[3]*weights1[3]+ bias1, \n",
    "          inputs[0]*weights2[0] + inputs[1]*weights2[1] + inputs[2]*weights2[2] + inputs[3]*weights2[3]+ bias2,\n",
    "          inputs[0]*weights3[0] + inputs[1]*weights3[1] + inputs[2]*weights3[2] + inputs[3]*weights3[3]+ bias3]  # output is the layered output of the neurons from the previous layer\n",
    "print(output)"
   ]
  },
  {
   "cell_type": "markdown",
   "metadata": {},
   "source": [
    "Simplifying the previous code"
   ]
  },
  {
   "cell_type": "code",
   "execution_count": 7,
   "metadata": {},
   "outputs": [
    {
     "name": "stdout",
     "output_type": "stream",
     "text": [
      "[4.8, 1.21, 2.385]\n"
     ]
    }
   ],
   "source": [
    "inputs = [1, 2, 3, 2.5] # 4 inputs are the four neurons from previous layer\n",
    "weights= [[0.2, 0.8, -0.5, 1.0],\n",
    "          [0.5, -0.91, 0.26, -0.5],\n",
    "          [-0.26, -0.27, 0.17, 0.87]] # 3 weights are the weights of the four neurons from previous layer\n",
    "biases = [2, 3, 0.5] # bias is the bias of the neuron from the previous layer\n",
    "\n",
    "layer_outputs = [] # Output of current layer\n",
    "for neuron_weights, neuron_bias in zip(weights, biases): #Zip is used to iterate over two lists at the same time and make a list of lists\n",
    "    neuron_output = 0 # Output of given neuron\n",
    "    for n_input, weight in zip(inputs, neuron_weights): #Zip is used to iterate over two lists at the same time\n",
    "        neuron_output += n_input*weight # Multiply the input with the weight and add it to the neuron_output\n",
    "    neuron_output += neuron_bias # Add the bias to the neuron_output\n",
    "    layer_outputs.append(neuron_output) # Append the neuron_output to the layer_outputs\n",
    "\n",
    "print(layer_outputs)"
   ]
  },
  {
   "cell_type": "markdown",
   "metadata": {},
   "source": [
    "# Dot Product and Matrix Product 🔃"
   ]
  },
  {
   "cell_type": "code",
   "execution_count": null,
   "metadata": {},
   "outputs": [
    {
     "name": "stdout",
     "output_type": "stream",
     "text": [
      "4.8\n"
     ]
    }
   ],
   "source": [
    "inputs = [1, 2, 3, 2.5]\n",
    "weights= [0.2, 0.8, -0.5, 1.0] # 3 weights are the weights of the four neurons from previous layer\n",
    "bias = 2 # bias is the bias of the neuron from the previous layer\n",
    "\n",
    "output = np.dot(weights, inputs) + bias # np.dot is used to multiply the weights and inputs and add them together\n",
    "print(output)"
   ]
  },
  {
   "cell_type": "code",
   "execution_count": null,
   "metadata": {},
   "outputs": [
    {
     "name": "stdout",
     "output_type": "stream",
     "text": [
      "[4.8   1.21  2.385]\n"
     ]
    }
   ],
   "source": [
    "inputs = [1, 2, 3, 2.5] # 4 inputs are the four neurons from previous layer\n",
    "weights= [[0.2, 0.8, -0.5, 1.0],\n",
    "          [0.5, -0.91, 0.26, -0.5],\n",
    "          [-0.26, -0.27, 0.17, 0.87]] # 3 weights are the weights of the four neurons from previous layer\n",
    "biases = [2, 3, 0.5]\n",
    "\n",
    "output = np.dot(weights, inputs) + biases # np.dot is used to multiply the weights and inputs and add them together\n",
    "print(output)"
   ]
  },
  {
   "cell_type": "markdown",
   "metadata": {},
   "source": [
    "# Batch Sizing 📦🔢"
   ]
  },
  {
   "cell_type": "code",
   "execution_count": null,
   "metadata": {},
   "outputs": [
    {
     "name": "stdout",
     "output_type": "stream",
     "text": [
      "[[ 4.8    1.21   2.385]\n",
      " [ 8.9   -1.81   0.2  ]\n",
      " [ 1.41   1.051  0.026]]\n"
     ]
    }
   ],
   "source": [
    "inputs = [[1, 2, 3, 2.5],\n",
    "          [2.0, 5.0, -1.0, 2.0],\n",
    "          [-1.5, 2.7, 3.3, -0.8]] # inputs are the four neurons from previous layer(3,4)\n",
    "\n",
    "weights= [[0.2, 0.8, -0.5, 1.0],\n",
    "          [0.5, -0.91, 0.26, -0.5],\n",
    "          [-0.26, -0.27, 0.17, 0.87]] # weights are the weights of the four neurons from previous layer(3,4)\n",
    "\n",
    "biases = [2, 3, 0.5]\n",
    "\n",
    "# output = np.dot(weights, inputs) + biases # np.dot is used to multiply the weights and inputs and add them together(3,4) * (3,4) = Error\n",
    "output = np.dot(inputs, np.array(weights).T) + biases # np.dot is used to multiply the weights and inputs and add them together(3,4) * (4,3) = (3,3)\n",
    "# T or Transpose is used to convert the weights from (3,4) to (4,3) to make the multiplication possible\n",
    "print(output)"
   ]
  },
  {
   "cell_type": "markdown",
   "metadata": {},
   "source": [
    "MultiLayered Approach"
   ]
  },
  {
   "cell_type": "code",
   "execution_count": 17,
   "metadata": {},
   "outputs": [
    {
     "name": "stdout",
     "output_type": "stream",
     "text": [
      "[[ 0.5031  -1.04185 -2.03875]\n",
      " [ 0.2434  -2.7332  -5.7633 ]\n",
      " [-0.99314  1.41254 -0.35655]]\n"
     ]
    }
   ],
   "source": [
    "inputs = [[1, 2, 3, 2.5],\n",
    "          [2.0, 5.0, -1.0, 2.0],\n",
    "          [-1.5, 2.7, 3.3, -0.8]] # inputs are the four neurons from previous layer(3,4)\n",
    "\n",
    "weights= [[0.2, 0.8, -0.5, 1.0],\n",
    "          [0.5, -0.91, 0.26, -0.5],\n",
    "          [-0.26, -0.27, 0.17, 0.87]] # weights are the weights of the four neurons from previous layer(3,4)\n",
    "\n",
    "weights2= [[0.1, -0.14, 0.5],\n",
    "          [-0.5, 0.12, -0.33],\n",
    "          [-0.44, 0.73, -0.13]]\n",
    "\n",
    "biases = [2, 3, 0.5]\n",
    "\n",
    "biases2 = [-1, 2, -0.5]\n",
    "\n",
    "# output = np.dot(weights, inputs) + biases # np.dot is used to multiply the weights and inputs and add them together(3,4) * (3,4) = Error\n",
    "layer1_outputs = np.dot(inputs, np.array(weights).T) + biases # np.dot is used to multiply the weights and inputs and add them together(3,4) * (4,3) = (3,3)\n",
    "# T or Transpose is used to convert the weights from (3,4) to (4,3) to make the multiplication possible\n",
    "layer2_outputs = np.dot(layer1_outputs, np.array(weights2).T) + biases2\n",
    "print(layer2_outputs)"
   ]
  },
  {
   "cell_type": "markdown",
   "metadata": {},
   "source": [
    "# Objectification of the Layers 🛤️📚"
   ]
  },
  {
   "cell_type": "code",
   "execution_count": 22,
   "metadata": {},
   "outputs": [
    {
     "name": "stdout",
     "output_type": "stream",
     "text": [
      "Layer 2 Output: [[ 0.148296   -0.08397602]\n",
      " [ 0.14100315 -0.01340469]\n",
      " [ 0.20124979 -0.07290616]]\n"
     ]
    }
   ],
   "source": [
    "X = [[1, 2, 3, 2.5],\n",
    "    [2.0, 5.0, -1.0, 2.0],\n",
    "    [-1.5, 2.7, 3.3, -0.8]] # X denotes inputs\n",
    "\n",
    "np.random.seed(0) # Seed is used to generate the same random numbers every time\n",
    "\n",
    "\n",
    "class Layer_Dense: # Class for the dense layer- Hidden layer\n",
    "    def __init__(self, n_inputs, n_neurons): #Entry point for the class object\n",
    "        self.weights = 0.10 * np.random.randn(n_inputs, n_neurons) # Random weights of the neurons\n",
    "        self.biases = np.zeros((1, n_neurons)) # Zero biases of the neurons\n",
    "    def forward(self, inputs): # Forward function to calculate the output\n",
    "        self.output = np.dot(inputs, self.weights) + self.biases # Output of the neurons\n",
    "\n",
    "layer1 = Layer_Dense(4,5) # Layer 1 with 4 inputs and 5 neurons\n",
    "layer2 = Layer_Dense(5,2) # Layer 2 with 5 inputs and 2 neurons\n",
    "layer1.forward(X) # Forward function of layer 1\n",
    "layer2.forward(layer1.output) # Forward function of layer 2\n",
    "\n",
    "\n",
    "print(\"Layer 2 Output:\",layer2.output) # Output of layer 1\n",
    "# print(0.10*np.random.randn(4, 3)) # Random weights of the neurons"
   ]
  },
  {
   "cell_type": "code",
   "execution_count": null,
   "metadata": {},
   "outputs": [],
   "source": []
  }
 ],
 "metadata": {
  "kernelspec": {
   "display_name": "Python 3",
   "language": "python",
   "name": "python3"
  },
  "language_info": {
   "codemirror_mode": {
    "name": "ipython",
    "version": 3
   },
   "file_extension": ".py",
   "mimetype": "text/x-python",
   "name": "python",
   "nbconvert_exporter": "python",
   "pygments_lexer": "ipython3",
   "version": "3.11.8"
  }
 },
 "nbformat": 4,
 "nbformat_minor": 2
}
